{
 "cells": [
  {
   "cell_type": "markdown",
   "metadata": {},
   "source": [
    "# GRU"
   ]
  },
  {
   "cell_type": "markdown",
   "metadata": {},
   "source": [
    "다층 게이트 순환 유닛(GRU) RNN을 입력 시퀀스에 적용합니다. 입력 시퀀스의 각 요소에 대해, 각 층은 다음과 같은 함수를 계산합니다:\n",
    "\n",
    "$$\n",
    "r_t = \\sigma(W_{ir}x_t + b_{ir} + W_{hr}h_{(t-1)} + b_{hr})\n",
    "$$\n",
    "$$\n",
    "z_t = \\sigma(W_{iz}x_t + b_{iz} + W_{hz}h_{(t-1)} + b_{hz})\n",
    "$$\n",
    "$$\n",
    "n_t = \\tanh(W_{in}x_t + b_{in} + r_t \\odot (W_{hn}h_{(t-1)} + b_{hn}))\n",
    "$$\n",
    "$$\n",
    "h_t = (1 - z_t) \\odot n_t + z_t \\odot h_{(t-1)}\n",
    "$$\n",
    "\n",
    "여기서 $h_t$는 시간 $t$에서의 은닉 상태이고, $x_t$는 시간 $t$에서의 입력, $h_{(t-1)}$는 시간 $t-1$에서의 은닉 상태 또는 시간 0에서의 초기 은닉 상태를 나타냅니다. $r_t$, $z_t$, $n_t$는 각각 리셋, 업데이트, 뉴 게이트를 나타냅니다. $\\sigma$는 시그모이드 함수이고, $\\odot$는 아다마르드 곱입니다.\n",
    "\n",
    "다층 GRU에서 $l$번째 층($l \\geq 2$)의 입력 $x_t^{(l)}$는 이전 층의 은닉 상태 $h_t^{(l-1)}$에 드롭아웃 $\\delta_t^{(l-1)}$을 곱한 값입니다. 여기서 각 $\\delta_t^{(l-1)}$는 드롭아웃 확률로 $0$이 될 수 있는 베르누이 확률 변수입니다.\n"
   ]
  },
  {
   "cell_type": "markdown",
   "metadata": {},
   "source": [
    "## 파라미터 설명\n",
    "\n",
    "- **input_size**: 입력 $x$에서 예상되는 특징 수\n",
    "\n",
    "- **hidden_size**: 은닉 상태 $h$의 특징 수\n",
    "\n",
    "- **num_layers**: 순환 레이어의 수. 예를 들어, `num_layers=2`로 설정하면 두 개의 GRU를 스택하여 첫 번째 GRU의 출력을 두 번째 GRU에 입력으로 사용하여 최종 결과를 계산합니다. 기본값: 1\n",
    "\n",
    "- **bias**: `False`로 설정하면 레이어에서 $b_{ih}$ 및 $b_{hh}$ 바이어스 가중치를 사용하지 않습니다. 기본값: `True`\n",
    "\n",
    "- **batch_first**: `True`로 설정하면 입력과 출력 텐서가 (배치, 시퀀스, 특징) 형식으로 제공됩니다. 이는 은닉 상태나 셀 상태에는 적용되지 않습니다. 자세한 내용은 아래의 입력/출력 섹션을 참조하세요. 기본값: `False`\n",
    "\n",
    "- **dropout**: 0이 아닌 경우, 마지막 GRU 레이어를 제외한 각 GRU 레이어의 출력에 드롭아웃 레이어를 추가합니다. 드롭아웃 확률은 `dropout`과 동일합니다. 기본값: 0\n",
    "\n",
    "- **bidirectional**: `True`로 설정하면 양방향 GRU가 됩니다. 기본값: `False`"
   ]
  },
  {
   "cell_type": "markdown",
   "metadata": {},
   "source": [
    "## Example:"
   ]
  },
  {
   "cell_type": "code",
   "execution_count": 2,
   "metadata": {},
   "outputs": [],
   "source": [
    "import torch\n",
    "import torch.nn as nn\n",
    "\n",
    "rnn = nn.GRU(10, 20, 2)\n",
    "input = torch.randn(5, 3, 10)\n",
    "h0 = torch.randn(2, 3, 20)\n",
    "output, hn = rnn(input, h0)"
   ]
  }
 ],
 "metadata": {
  "kernelspec": {
   "display_name": "aiStudy",
   "language": "python",
   "name": "python3"
  },
  "language_info": {
   "codemirror_mode": {
    "name": "ipython",
    "version": 3
   },
   "file_extension": ".py",
   "mimetype": "text/x-python",
   "name": "python",
   "nbconvert_exporter": "python",
   "pygments_lexer": "ipython3",
   "version": "3.8.19"
  },
  "orig_nbformat": 4
 },
 "nbformat": 4,
 "nbformat_minor": 2
}
