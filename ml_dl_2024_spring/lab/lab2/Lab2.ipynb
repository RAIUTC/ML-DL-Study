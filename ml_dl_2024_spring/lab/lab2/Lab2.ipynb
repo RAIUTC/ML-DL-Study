{
 "cells": [
  {
   "cell_type": "markdown",
   "metadata": {
    "id": "bUEIcTzUqwT0"
   },
   "source": [
    "# Lab2\n",
    "\n",
    "## Vectorization in Numpy\n",
    "\n",
    "### Two Major Tips for Vectorization in Numpy\n",
    "\n",
    "1. Broadcasting\n",
    "\n",
    "- shape이 다른 두 array의 연산을 지원 가능하게 한다.\n",
    "\n",
    "2. Boolean Indexing & Fancy Indexing\n",
    "\n",
    "- 한 번에 쉽게 접근 가능하다.\n",
    "\n"
   ]
  },
  {
   "cell_type": "markdown",
   "metadata": {
    "id": "mCvw44ABscU4"
   },
   "source": [
    "# 0. Setting\n",
    "\n",
    "## Google Colab"
   ]
  },
  {
   "cell_type": "code",
   "execution_count": 2,
   "metadata": {
    "colab": {
     "base_uri": "https://localhost:8080/"
    },
    "id": "IAU_pvy9sYuE",
    "outputId": "ced42893-7138-4eef-88d4-1addd9ce2de8"
   },
   "outputs": [
    {
     "ename": "ModuleNotFoundError",
     "evalue": "No module named 'google'",
     "output_type": "error",
     "traceback": [
      "\u001b[0;31m---------------------------------------------------------------------------\u001b[0m",
      "\u001b[0;31mModuleNotFoundError\u001b[0m                       Traceback (most recent call last)",
      "\u001b[1;32m/Users/sunukkim/Desktop/Workspace/ml_dl_2024_spring/lab/lab2/Lab2.ipynb Cell 3\u001b[0m line \u001b[0;36m1\n\u001b[0;32m----> <a href='vscode-notebook-cell:/Users/sunukkim/Desktop/Workspace/ml_dl_2024_spring/lab/lab2/Lab2.ipynb#X56sZmlsZQ%3D%3D?line=0'>1</a>\u001b[0m \u001b[39mfrom\u001b[39;00m \u001b[39mgoogle\u001b[39;00m\u001b[39m.\u001b[39;00m\u001b[39mcolab\u001b[39;00m \u001b[39mimport\u001b[39;00m drive\n\u001b[1;32m      <a href='vscode-notebook-cell:/Users/sunukkim/Desktop/Workspace/ml_dl_2024_spring/lab/lab2/Lab2.ipynb#X56sZmlsZQ%3D%3D?line=1'>2</a>\u001b[0m drive\u001b[39m.\u001b[39mmount(\u001b[39m'\u001b[39m\u001b[39m/content/drive\u001b[39m\u001b[39m'\u001b[39m)\n",
      "\u001b[0;31mModuleNotFoundError\u001b[0m: No module named 'google'"
     ]
    }
   ],
   "source": [
    "from google.colab import drive\n",
    "drive.mount('/content/drive')"
   ]
  },
  {
   "cell_type": "code",
   "execution_count": null,
   "metadata": {
    "colab": {
     "base_uri": "https://localhost:8080/"
    },
    "id": "z8D_IkNGqrU0",
    "outputId": "17d56fce-ea34-4bbe-99dc-c48e1695f8f5"
   },
   "outputs": [],
   "source": [
    "# PLEASE SPECIFY THE PATH OF THIS FILE HERE\n",
    "%cd '/content/drive/MyDrive/For_Personal/인공지능 스터디/MLDL_study_2024_spring'"
   ]
  },
  {
   "cell_type": "markdown",
   "metadata": {
    "id": "FZmwi8jftp7v"
   },
   "source": [
    "## Libraries"
   ]
  },
  {
   "cell_type": "code",
   "execution_count": 3,
   "metadata": {
    "id": "Xl_WBn2atoMX"
   },
   "outputs": [],
   "source": [
    "import numpy as np\n",
    "import pandas as pd\n",
    "import matplotlib.pyplot as plt"
   ]
  },
  {
   "cell_type": "markdown",
   "metadata": {
    "id": "JaCWEmNnvGBu"
   },
   "source": [
    "## Untitles"
   ]
  },
  {
   "cell_type": "code",
   "execution_count": 5,
   "metadata": {
    "id": "CeKG3d9EvUce"
   },
   "outputs": [],
   "source": [
    "def train_test_split_df(dataframe, test_size = 0.2, random_state = None):\n",
    "  if random_state:\n",
    "    np.random.seed(random_state)\n",
    "\n",
    "  # Shuffle the indices of the dataframe\n",
    "  indices = np.random.permutation(len(dataframe))\n",
    "\n",
    "  # Calculate the number if samples in the test set\n",
    "  test_samples = int(len(dataframe) * test_size)\n",
    "\n",
    "  # split indices into train and test indices\n",
    "  test_indices = indices[:test_samples]\n",
    "  train_indices = indices[test_samples:]\n",
    "\n",
    "  # Split dataframe into train and test sets using the indices\n",
    "  train_set = dataframe.iloc[train_indices]\n",
    "  test_set = dataframe.iloc[test_indices]\n",
    "\n",
    "  return train_set, test_set\n",
    "\n",
    "def train_test_split_np(X, y, test_size = 0.2, random_state = None):\n",
    "  if random_state:\n",
    "    np.random.seed(random_state)\n",
    "\n",
    "  # Shuffle the indices of the dataframe\n",
    "  indices = np.random.permutation(len(X))\n",
    "\n",
    "  # Calculate the number if samples in the test set\n",
    "  test_samples = int(len(X) * test_size)\n",
    "\n",
    "  # split indices into train and test indices\n",
    "  test_indices = indices[:test_samples]\n",
    "  train_indices = indices[test_samples:]\n",
    "\n",
    "  # Split dataframe into train and test sets using the indices\n",
    "  train_X, train_y = X[train_indices], y[train_indices]\n",
    "  test_X, test_y = X[test_indices], y[test_indices]\n",
    "\n",
    "  return train_X, train_y, test_X, test_y\n",
    "\n",
    "def mean_squared_error(y_true, y_pred):\n",
    "  # Calculate squared errors\n",
    "  squared_errors = [(y_true[i] - y_pred[i]) ** 2 for i in range(len(y_true))]\n",
    "\n",
    "  # Calculate mean squared error\n",
    "  mse = sum(squared_errors) / len(y_true)\n",
    "\n",
    "  return mse\n",
    "\n",
    "def r_squared(y_true, y_pred):\n",
    "  # Calculate the mean of the true values\n",
    "  # 실제 값의 평균을 계산합니다.\n",
    "  mean_y_true = sum(y_true) / len(y_true)\n",
    "\n",
    "  # Calculate the total sum of squares (TSS)\n",
    "  # 총 제곱합 (TSS)을 계산합니다.\n",
    "  tss = sum([(y - mean_y_true) ** 2 for y in y_true])\n",
    "\n",
    "  # Calculate the residual sum of squares (RSS)\n",
    "  # 잔차 제곱합 (RSS)을 계산합니다.\n",
    "  rss = sum([(y_true[i] - y_pred[i]) ** 2 for i in range(len(y_true))])\n",
    "\n",
    "  # Calculate R-squared\n",
    "  # R-제곱을 계산합니다.\n",
    "  r2 = 1 - (rss / tss)\n",
    "\n",
    "  return r2\n",
    "\n",
    "def accuracy(y_true, y_pred):\n",
    "  return (y_true == y_pred).sum() / len(y_true)"
   ]
  },
  {
   "cell_type": "markdown",
   "metadata": {
    "id": "e3CU2x3fyepP"
   },
   "source": [
    "# 1. Regularization\n",
    "\n",
    "## 1-0. Data Setting"
   ]
  },
  {
   "cell_type": "code",
   "execution_count": 8,
   "metadata": {
    "colab": {
     "base_uri": "https://localhost:8080/",
     "height": 206
    },
    "id": "hsFps0O3ymW1",
    "outputId": "00409b43-8e5e-4d98-c808-c4e2cd5af9aa"
   },
   "outputs": [
    {
     "data": {
      "text/html": [
       "<div>\n",
       "<style scoped>\n",
       "    .dataframe tbody tr th:only-of-type {\n",
       "        vertical-align: middle;\n",
       "    }\n",
       "\n",
       "    .dataframe tbody tr th {\n",
       "        vertical-align: top;\n",
       "    }\n",
       "\n",
       "    .dataframe thead th {\n",
       "        text-align: right;\n",
       "    }\n",
       "</style>\n",
       "<table border=\"1\" class=\"dataframe\">\n",
       "  <thead>\n",
       "    <tr style=\"text-align: right;\">\n",
       "      <th></th>\n",
       "      <th>TV</th>\n",
       "      <th>Radio</th>\n",
       "      <th>Newspaper</th>\n",
       "      <th>Sales</th>\n",
       "    </tr>\n",
       "  </thead>\n",
       "  <tbody>\n",
       "    <tr>\n",
       "      <th>0</th>\n",
       "      <td>230.1</td>\n",
       "      <td>37.8</td>\n",
       "      <td>69.2</td>\n",
       "      <td>22.1</td>\n",
       "    </tr>\n",
       "    <tr>\n",
       "      <th>1</th>\n",
       "      <td>44.5</td>\n",
       "      <td>39.3</td>\n",
       "      <td>45.1</td>\n",
       "      <td>10.4</td>\n",
       "    </tr>\n",
       "    <tr>\n",
       "      <th>2</th>\n",
       "      <td>17.2</td>\n",
       "      <td>45.9</td>\n",
       "      <td>69.3</td>\n",
       "      <td>9.3</td>\n",
       "    </tr>\n",
       "    <tr>\n",
       "      <th>3</th>\n",
       "      <td>151.5</td>\n",
       "      <td>41.3</td>\n",
       "      <td>58.5</td>\n",
       "      <td>18.5</td>\n",
       "    </tr>\n",
       "    <tr>\n",
       "      <th>4</th>\n",
       "      <td>180.8</td>\n",
       "      <td>10.8</td>\n",
       "      <td>58.4</td>\n",
       "      <td>12.9</td>\n",
       "    </tr>\n",
       "  </tbody>\n",
       "</table>\n",
       "</div>"
      ],
      "text/plain": [
       "      TV  Radio  Newspaper  Sales\n",
       "0  230.1   37.8       69.2   22.1\n",
       "1   44.5   39.3       45.1   10.4\n",
       "2   17.2   45.9       69.3    9.3\n",
       "3  151.5   41.3       58.5   18.5\n",
       "4  180.8   10.8       58.4   12.9"
      ]
     },
     "execution_count": 8,
     "metadata": {},
     "output_type": "execute_result"
    }
   ],
   "source": [
    "advertising = pd.read_csv(\"/Users/sunukkim/Desktop/Workspace/ml_dl_2024_spring/lab/data/Advertising.csv\", usecols=[1,2,3,4])\n",
    "# advertising = pd.read_csv('/home/jovyan/data/Advertising.csv', usecols=[1,2,3,4])\n",
    "advertising.head()"
   ]
  },
  {
   "cell_type": "code",
   "execution_count": 9,
   "metadata": {
    "colab": {
     "base_uri": "https://localhost:8080/"
    },
    "id": "jYU7c3zhzEtR",
    "outputId": "17f82e44-3a55-47e5-8b08-bfaede58b7c6"
   },
   "outputs": [
    {
     "name": "stdout",
     "output_type": "stream",
     "text": [
      "(160, 3) (160,)\n",
      "(40, 3) (40,)\n"
     ]
    }
   ],
   "source": [
    "train_data, test_data = train_test_split_df(advertising)\n",
    "\n",
    "X_train, y_train = np.array(train_data.drop(\"Sales\", axis = 1)), np.array(train_data.Sales)\n",
    "X_test, y_test = np.array(test_data.drop(\"Sales\", axis = 1)), np.array(test_data.Sales)\n",
    "\n",
    "print(X_train.shape, y_train.shape)\n",
    "print(X_test.shape, y_test.shape)"
   ]
  },
  {
   "cell_type": "markdown",
   "metadata": {
    "id": "cfib--rHzbPZ"
   },
   "source": [
    "## 1-1. Ridge Regression\n",
    "\n",
    "**Closed Form Solution of Weights($ \\beta $) Estimation in Linear Regression**\n",
    "\n",
    "Ordinary Least Squares Estimator\n",
    "- $ \\hat{\\beta}_{OLS} = (X^TX)^{-1}X^TY$\n",
    "\n",
    "Ridge Estimator\n",
    "- $ \\hat{\\beta}_{R} = (X^TX + \\lambda I)^{-1}X^TY$"
   ]
  },
  {
   "cell_type": "code",
   "execution_count": 10,
   "metadata": {
    "id": "_XcPW1xPztY1"
   },
   "outputs": [],
   "source": [
    "class LinearRegression:\n",
    "  def __init__(self):\n",
    "    self.weights = None\n",
    "\n",
    "  def fit(self, X, y):\n",
    "    # Add a column of ones to X for the intercept(bias) term\n",
    "    X = np.hstack((np.ones((X.shape[0], 1)), X))\n",
    "\n",
    "    # Calculate weights using the Least squares method (closed from solution)\n",
    "    self.weights = np.linalg.inv(X.T.dot(X)).dot(X.T).dot(y)\n",
    "\n",
    "  def predict(self, X):\n",
    "    # Add a column of ones to X for the intercept term\n",
    "    ones = np.ones((X.shape[0], 1))\n",
    "    X = np.concatenate((ones, X), axis = 1)\n",
    "\n",
    "    # Predict sing the linear regression model\n",
    "    y_pred = X.dot(self.weights)\n",
    "\n",
    "    return y_pred"
   ]
  },
  {
   "cell_type": "code",
   "execution_count": 11,
   "metadata": {
    "id": "6Z-7V2Of3HQA"
   },
   "outputs": [],
   "source": [
    "class RidgeRegression:\n",
    "  def __init__(self, alpha = 1):\n",
    "    self.weights = None\n",
    "    self.alpha = alpha\n",
    "\n",
    "  def fit(self, X, y):\n",
    "    # Add a column of ones to X for the intercept(bias) term\n",
    "    ones = np.ones((X.shape[0], 1))\n",
    "    X = np.concatenate((ones, X), axis = 1)\n",
    "\n",
    "    ####################\n",
    "    #Fill the Code here#\n",
    "    ####################\n",
    "\n",
    "    # self.weights =\n",
    "\n",
    "    # answer\n",
    "    # Calculate weights using the Least squares method with L2 regularization\n",
    "    self.weights = np.linalg.inv(X.T.dot(X) + self.alpha * np.eye(X.shape[1])).dot(X.T).dot(y)\n",
    "\n",
    "    ####################\n",
    "\n",
    "  def predict(self, X):\n",
    "    # Add a column of ones to X for the intercept(bias) term\n",
    "    ones = np.ones((X.shape[0], 1))\n",
    "    X = np.concatenate((ones, X), axis = 1)\n",
    "\n",
    "    # Predict using the ridge regression model\n",
    "    y_pred = X.dot(self.weights)\n",
    "\n",
    "    return y_pred"
   ]
  },
  {
   "cell_type": "code",
   "execution_count": 12,
   "metadata": {},
   "outputs": [
    {
     "name": "stdout",
     "output_type": "stream",
     "text": [
      "MSE:  2.1866007433900316\n",
      "r-squared:  0.9270561083853245\n"
     ]
    }
   ],
   "source": [
    "ridge = RidgeRegression(alpha = 1)\n",
    "ridge.fit(X_train, y_train)\n",
    "y_pred = ridge.predict(X_test)\n",
    "\n",
    "print(\"MSE: \", mean_squared_error(y_test, y_pred))\n",
    "print(\"r-squared: \", r_squared(y_test, y_pred))"
   ]
  },
  {
   "cell_type": "markdown",
   "metadata": {},
   "source": [
    "## 1-2. Lasso Regression\n",
    "\n",
    "**Gradient of Loss with respect to Weights($ \\beta $) in Lasso Regression**\n",
    "\n",
    "$ L(\\beta) = (X\\beta - y)^T(X\\beta - y) + \\lambda \\times \\parallel\\beta\\parallel_1$\n",
    "\n",
    "$ \\frac{\\partial}{\\partial\\beta}L = 2X^T(X\\beta - y) + \\lambda \\times sign(\\beta)$"
   ]
  },
  {
   "cell_type": "code",
   "execution_count": 13,
   "metadata": {},
   "outputs": [],
   "source": [
    "class LassoRegression:\n",
    "    def __init__(self, alpha = 1):\n",
    "        self.weights = None\n",
    "        self.alpha = alpha\n",
    "\n",
    "    def fit(self, X, y, max_iter = 1000, lr = 1e-5):\n",
    "        # add a column of ones to X for the intercept(bias) term\n",
    "        ones = np.ones((X.shape[0], 1))\n",
    "        X = np.concatenate((ones, X), axis = 1)\n",
    "\n",
    "        # Initialize weights randomly\n",
    "        self.weights = np.random.randn(X.shape[1])\n",
    "\n",
    "        for _ in range(max_iter):\n",
    "            # Calculate gradient of the loss function\n",
    "\n",
    "            ##################\n",
    "            # IMPLEMENT HERE #\n",
    "            ##################\n",
    "            \n",
    "            # grad =\n",
    "\n",
    "            # answer\n",
    "            grad = 2 * X.T.dot(X.dot(self.weights) - y) + self.alpha * np.sign(self.weights)\n",
    "\n",
    "            ##################\n",
    "            ##################\n",
    "\n",
    "            # update weights using the L1 regularization term\n",
    "            self.weights -= lr * grad / X.shape[0]\n",
    "\n",
    "    def predict(self, X):\n",
    "        # Add a column of ones to X for the intercept term\n",
    "        ones = np.ones((X.shape[0], 1))\n",
    "        X = np.concatenate((ones, X), axis = 1)\n",
    "\n",
    "        # Predict using the lasso regression model\n",
    "        y_pred = X.dot(self.weights)\n",
    "\n",
    "        return y_pred"
   ]
  },
  {
   "cell_type": "code",
   "execution_count": 14,
   "metadata": {},
   "outputs": [
    {
     "name": "stdout",
     "output_type": "stream",
     "text": [
      "MSE:  5.219877972613233\n",
      "r-squared:  0.8258675186921334\n"
     ]
    }
   ],
   "source": [
    "lasso = LassoRegression(alpha = 1)\n",
    "lasso.fit(X_train, y_train)\n",
    "y_pred = lasso.predict(X_test)\n",
    "\n",
    "print(\"MSE: \", mean_squared_error(y_test, y_pred))\n",
    "print(\"r-squared: \", r_squared(y_test, y_pred))"
   ]
  },
  {
   "cell_type": "markdown",
   "metadata": {},
   "source": [
    "# 2. Decision Tree Classification\n",
    "\n",
    "## 2-0. Data Setting"
   ]
  },
  {
   "cell_type": "code",
   "execution_count": 16,
   "metadata": {},
   "outputs": [],
   "source": [
    "from sklearn import datasets\n",
    "iris = datasets.load_iris()\n",
    "X = iris.data\n",
    "y = iris.target\n",
    "label_dict = {0: \"Setosa\", 1: \"Versicolor\", 2: \"Virginica\"}"
   ]
  },
  {
   "cell_type": "code",
   "execution_count": 17,
   "metadata": {},
   "outputs": [
    {
     "name": "stdout",
     "output_type": "stream",
     "text": [
      "(120, 4) (120,)\n",
      "(30, 4) (30,)\n",
      "\n",
      "With labels of {0: \"Setosa\", 1: \"Versicolor\", 2: \"Virginica\"},\n",
      "First five labels in training set: [0 2 0 2 2]\n"
     ]
    }
   ],
   "source": [
    "train_X, train_y, test_X, test_y = train_test_split_np(X, y)\n",
    "print(train_X.shape, train_y.shape)\n",
    "print(test_X.shape, test_y.shape)\n",
    "print()\n",
    "print('With labels of {0: \"Setosa\", 1: \"Versicolor\", 2: \"Virginica\"},')\n",
    "print('First five labels in training set:', train_y[:5])"
   ]
  },
  {
   "cell_type": "markdown",
   "metadata": {},
   "source": [
    "## 2-1. Decision Tree Classifier"
   ]
  },
  {
   "cell_type": "code",
   "execution_count": 19,
   "metadata": {},
   "outputs": [],
   "source": [
    "class DecisionTree:\n",
    "    def __init__(self, min_samples = None):\n",
    "        self.min_samples = min_samples\n",
    "\n",
    "    def fit(self, X, y):\n",
    "        self.tree = self._grow_tree(X, y)\n",
    "\n",
    "    def _grow_tree(self, X, y, depth = 0):\n",
    "        # Stopping criterio\n",
    "        n_labels = len(np.unique(y))\n",
    "        if(self.min_samples is not None and len(y) <= self.min_samples) or n_labels == 1:\n",
    "            return np.argmax(np.bincount(y))\n",
    "\n",
    "        feature_idx, threshold = self._best_split(X, y)\n",
    "        left_indices = X[:, feature_idx] < threshold\n",
    "        X_left, y_left = X[left_indices], y[left_indices]\n",
    "        X_right, y_right = X[~left_indices], y[~left_indices]\n",
    "\n",
    "        # Recursively grow the tree\n",
    "        left_tree = self._grow_tree(X_left, y_left, depth + 1)\n",
    "        right_tree = self._grow_tree(X_right, y_right, depth + 1)\n",
    "\n",
    "        return [feature_idx, threshold, left_tree, right_tree]\n",
    "\n",
    "    def _best_split(self, X, y):\n",
    "        n_features = X.shape[1]\n",
    "        best_feature_idx, best_threshold, min_entropy = None, None, float('inf') # positive infinity\n",
    "\n",
    "        for feature_idx in range(n_features):\n",
    "\n",
    "            ##################\n",
    "            # IMPLEMENT HERE #\n",
    "            ##################\n",
    "\n",
    "            # thresholds = \n",
    "\n",
    "            # answer\n",
    "            thresholds = np.unique(X[:, feature_idx])\n",
    "\n",
    "            ##################\n",
    "            ##################\n",
    "\n",
    "            for threshold in thresholds:\n",
    "\n",
    "                y_left = y[X[:, feature_idx] < threshold]\n",
    "                y_right = y[X[:, feature_idx] >= threshold]\n",
    "\n",
    "                entropy = self._entropy(y_left, y_right)\n",
    "                if entropy < min_entropy:\n",
    "                    best_feature_idx, best_threshold, min_entropy = feature_idx, threshold, entropy\n",
    "\n",
    "        return best_feature_idx, best_threshold\n",
    "\n",
    "    def _entropy(self, y_left, y_right):\n",
    "        n_left, n_right = len(y_left), len(y_right)\n",
    "        n_total = n_left + n_right\n",
    "\n",
    "        p_left = np.unique(y_left, return_counts = True)[1] / n_left\n",
    "        p_right = np.unique(y_right, return_counts = True)[1] / n_right\n",
    "\n",
    "        entropy_left = -np.sum(p_left * np.log(p_left))\n",
    "        entropy_right = -np.sum(p_right * np.log(p_right))\n",
    "\n",
    "        return (n_left / n_total) * entropy_left + (n_right / n_total) * entropy_right\n",
    "\n",
    "    def predict(self, X):\n",
    "        return np.array([self._predict(x, self.tree) for x in X])\n",
    "\n",
    "    def _predict(self, x, tree):\n",
    "        if not isinstance(tree, list):\n",
    "            return tree\n",
    "\n",
    "        feature_idx, threshold, left_tree, right_tree = tree\n",
    "        if x[feature_idx] < threshold:\n",
    "            return self._predict(x, left_tree)\n",
    "        else:\n",
    "            return self._predict(x, right_tree)"
   ]
  },
  {
   "cell_type": "code",
   "execution_count": 20,
   "metadata": {},
   "outputs": [
    {
     "name": "stdout",
     "output_type": "stream",
     "text": [
      "[1 0 2 1 2 0 2 1 2 1 2 0 1 2 1 0 0 0 0 0 0 1 2 0 1 0 1 0 2 2]\n",
      "[1 0 2 1 2 0 2 1 2 2 2 0 1 2 1 0 0 0 0 0 0 1 2 0 1 0 1 0 2 2]\n",
      "Accuracy:  0.9666666666666667\n"
     ]
    }
   ],
   "source": [
    "dt = DecisionTree(min_samples = 5)\n",
    "dt.fit(X, y)\n",
    "pred_y = dt.predict(test_X)\n",
    "\n",
    "print(test_y)\n",
    "print(pred_y)\n",
    "print('Accuracy: ', accuracy(test_y, pred_y))"
   ]
  },
  {
   "cell_type": "code",
   "execution_count": 21,
   "metadata": {},
   "outputs": [
    {
     "data": {
      "text/plain": [
       "[2, 3.0, 0, [3, 1.8, [2, 5.0, [3, 1.7, 1, 2], [3, 1.6, 2, 1]], [2, 4.9, 2, 2]]]"
      ]
     },
     "execution_count": 21,
     "metadata": {},
     "output_type": "execute_result"
    }
   ],
   "source": [
    "dt.tree"
   ]
  },
  {
   "cell_type": "markdown",
   "metadata": {},
   "source": [
    "# 3. Random Forest Classification\n",
    "\n",
    "## 3-0. Data Setting"
   ]
  },
  {
   "cell_type": "code",
   "execution_count": 22,
   "metadata": {},
   "outputs": [],
   "source": [
    "from sklearn import datasets\n",
    "iris = datasets.load_iris()\n",
    "X = iris.data\n",
    "y = iris.target\n",
    "label_dict = {0: \"Setosa\", 1: \"Versicolor\", 2: \"Virginica\"}"
   ]
  },
  {
   "cell_type": "code",
   "execution_count": 23,
   "metadata": {},
   "outputs": [
    {
     "name": "stdout",
     "output_type": "stream",
     "text": [
      "(120, 4) (120,)\n",
      "(30, 4) (30,)\n",
      "\n",
      "With labels of {0: \"Setosa\", 1: \"Versicolor\", 2: \"Virginica\"},\n",
      "First five labels in training set: [2 0 1 2 0]\n"
     ]
    }
   ],
   "source": [
    "train_X, train_y, test_X, test_y = train_test_split_np(X, y)\n",
    "print(train_X.shape, train_y.shape)\n",
    "print(test_X.shape, test_y.shape)\n",
    "print()\n",
    "print('With labels of {0: \"Setosa\", 1: \"Versicolor\", 2: \"Virginica\"},')\n",
    "print('First five labels in training set:', train_y[:5])"
   ]
  },
  {
   "cell_type": "markdown",
   "metadata": {},
   "source": [
    "## 3-1. Decision Tree Classifier for Random Forest"
   ]
  },
  {
   "cell_type": "code",
   "execution_count": 25,
   "metadata": {},
   "outputs": [],
   "source": [
    "class DecisionTreeForRF:\n",
    "    def __init__(self, min_samples = None):\n",
    "        self.min_samples = min_samples\n",
    "\n",
    "    def fit(self, X, y):\n",
    "        self.tree = self._grow_tree(X, y)\n",
    "\n",
    "    def _grow_tree(self, X, y, depth = 0):\n",
    "        # Stopping criterio\n",
    "        n_labels = len(np.unique(y))\n",
    "        if(self.min_samples is not None and len(y) <= self.min_samples) or n_labels == 1:\n",
    "            return np.argmax(np.bincount(y))\n",
    "\n",
    "        feature_idx, threshold = self._best_split_with_random(X, y)\n",
    "        left_indices = X[:, feature_idx] < threshold\n",
    "        X_left, y_left = X[left_indices], y[left_indices]\n",
    "        X_right, y_right = X[~left_indices], y[~left_indices]\n",
    "\n",
    "        # Recursively grow the tree\n",
    "        left_tree = self._grow_tree(X_left, y_left, depth + 1)\n",
    "        right_tree = self._grow_tree(X_right, y_right, depth + 1)\n",
    "\n",
    "        return [feature_idx, threshold, left_tree, right_tree]\n",
    "\n",
    "    def _best_split_with_random(self, X, y):\n",
    "        n_features = X.shape[1]\n",
    "        best_feature_idx, best_threshold, min_entropy = None, None, float('inf') # positive infinity\n",
    "\n",
    "        ##################\n",
    "        # IMPLEMENT HERE #\n",
    "        ##################\n",
    "\n",
    "        # features = range(n_features)\n",
    "        # features = \n",
    "\n",
    "        # answer\n",
    "        features = np.random.choice(n_features, size = int(np.sqrt(n_features)), replace = False)\n",
    "\n",
    "        ##################\n",
    "        ##################\n",
    "\n",
    "        for feature_idx in features:\n",
    "            thresholds = np.unique(X[:, feature_idx])\n",
    "\n",
    "            for threshold in thresholds:\n",
    "\n",
    "                y_left = y[X[:, feature_idx] < threshold]\n",
    "                y_right = y[X[:, feature_idx] >= threshold]\n",
    "    \n",
    "                entropy = self._entropy(y_left, y_right)\n",
    "                if entropy < min_entropy:\n",
    "                    best_feature_idx, best_threshold, min_entropy = feature_idx, threshold, entropy\n",
    "\n",
    "        return best_feature_idx, best_threshold\n",
    "\n",
    "    def _entropy(self, y_left, y_right):\n",
    "        n_left, n_right = len(y_left), len(y_right)\n",
    "        n_total = n_left + n_right\n",
    "\n",
    "        p_left = np.unique(y_left, return_counts = True)[1] / n_left\n",
    "        p_right = np.unique(y_right, return_counts = True)[1] / n_right\n",
    "\n",
    "        entropy_left = -np.sum(p_left * np.log(p_left))\n",
    "        entropy_right = -np.sum(p_right * np.log(p_right))\n",
    "\n",
    "        return (n_left / n_total) * entropy_left + (n_right / n_total) * entropy_right\n",
    "\n",
    "    def predict(self, X):\n",
    "        return np.array([self._predict(x, self.tree) for x in X])\n",
    "\n",
    "    def _predict(self, x, tree):\n",
    "        if not isinstance(tree, list):\n",
    "            return tree\n",
    "\n",
    "        feature_idx, threshold, left_tree, right_tree = tree\n",
    "        if x[feature_idx] < threshold:\n",
    "            return self._predict(x, left_tree)\n",
    "        else:\n",
    "            return self._predict(x, right_tree)"
   ]
  },
  {
   "cell_type": "markdown",
   "metadata": {},
   "source": [
    "## 3-2. Random Forest Classifier"
   ]
  },
  {
   "cell_type": "code",
   "execution_count": 26,
   "metadata": {},
   "outputs": [],
   "source": [
    "class RandomForestClassifier:\n",
    "    def __init__(self, n_trees = 100, min_samples = 5):\n",
    "        self.n_trees = n_trees\n",
    "        self.min_samples = min_samples\n",
    "\n",
    "    def fit(self, X, y):\n",
    "        self.trees = [DecisionTreeForRF(min_samples = self.min_samples) for _ in range(self.n_trees)]\n",
    "\n",
    "        for tree in self.trees:\n",
    "            indices = np.random.choice(len(X), size = len(X), replace = True)\n",
    "            tree.fit(X[indices], y[indices])\n",
    "\n",
    "    def predict(self, X):\n",
    "        predictions = np.stack([tree.predict(X) for tree in self.trees], axis = 1)\n",
    "        return np.array([np.argmax(np.bincount(pred)) for pred in predictions])"
   ]
  },
  {
   "cell_type": "code",
   "execution_count": 27,
   "metadata": {},
   "outputs": [
    {
     "name": "stdout",
     "output_type": "stream",
     "text": [
      "Accuracy:  0.9666666666666667\n"
     ]
    }
   ],
   "source": [
    "rf = RandomForestClassifier(n_trees = 100, min_samples = 5)\n",
    "rf.fit(train_X, train_y)\n",
    "pred_y = rf.predict(test_X)\n",
    "\n",
    "print('Accuracy: ', accuracy(test_y, pred_y))"
   ]
  },
  {
   "cell_type": "markdown",
   "metadata": {},
   "source": [
    "# 4. AdaBoost\n",
    "\n",
    "## 4-0. Data Setting"
   ]
  },
  {
   "cell_type": "code",
   "execution_count": 29,
   "metadata": {},
   "outputs": [
    {
     "data": {
      "text/html": [
       "<div>\n",
       "<style scoped>\n",
       "    .dataframe tbody tr th:only-of-type {\n",
       "        vertical-align: middle;\n",
       "    }\n",
       "\n",
       "    .dataframe tbody tr th {\n",
       "        vertical-align: top;\n",
       "    }\n",
       "\n",
       "    .dataframe thead th {\n",
       "        text-align: right;\n",
       "    }\n",
       "</style>\n",
       "<table border=\"1\" class=\"dataframe\">\n",
       "  <thead>\n",
       "    <tr style=\"text-align: right;\">\n",
       "      <th></th>\n",
       "      <th>default</th>\n",
       "      <th>student</th>\n",
       "      <th>balance</th>\n",
       "      <th>income</th>\n",
       "    </tr>\n",
       "  </thead>\n",
       "  <tbody>\n",
       "    <tr>\n",
       "      <th>0</th>\n",
       "      <td>No</td>\n",
       "      <td>No</td>\n",
       "      <td>729.526495</td>\n",
       "      <td>44361.625074</td>\n",
       "    </tr>\n",
       "    <tr>\n",
       "      <th>1</th>\n",
       "      <td>No</td>\n",
       "      <td>Yes</td>\n",
       "      <td>817.180407</td>\n",
       "      <td>12106.134700</td>\n",
       "    </tr>\n",
       "    <tr>\n",
       "      <th>2</th>\n",
       "      <td>No</td>\n",
       "      <td>No</td>\n",
       "      <td>1073.549164</td>\n",
       "      <td>31767.138947</td>\n",
       "    </tr>\n",
       "    <tr>\n",
       "      <th>3</th>\n",
       "      <td>No</td>\n",
       "      <td>No</td>\n",
       "      <td>529.250605</td>\n",
       "      <td>35704.493935</td>\n",
       "    </tr>\n",
       "    <tr>\n",
       "      <th>4</th>\n",
       "      <td>No</td>\n",
       "      <td>No</td>\n",
       "      <td>785.655883</td>\n",
       "      <td>38463.495879</td>\n",
       "    </tr>\n",
       "  </tbody>\n",
       "</table>\n",
       "</div>"
      ],
      "text/plain": [
       "  default student      balance        income\n",
       "0      No      No   729.526495  44361.625074\n",
       "1      No     Yes   817.180407  12106.134700\n",
       "2      No      No  1073.549164  31767.138947\n",
       "3      No      No   529.250605  35704.493935\n",
       "4      No      No   785.655883  38463.495879"
      ]
     },
     "execution_count": 29,
     "metadata": {},
     "output_type": "execute_result"
    }
   ],
   "source": [
    "df = pd.read_csv(\"/Users/sunukkim/Desktop/Workspace/ml_dl_2024_spring/lab/data/Default.csv\")\n",
    "df.head()"
   ]
  },
  {
   "cell_type": "code",
   "execution_count": 30,
   "metadata": {},
   "outputs": [
    {
     "data": {
      "text/html": [
       "<div>\n",
       "<style scoped>\n",
       "    .dataframe tbody tr th:only-of-type {\n",
       "        vertical-align: middle;\n",
       "    }\n",
       "\n",
       "    .dataframe tbody tr th {\n",
       "        vertical-align: top;\n",
       "    }\n",
       "\n",
       "    .dataframe thead th {\n",
       "        text-align: right;\n",
       "    }\n",
       "</style>\n",
       "<table border=\"1\" class=\"dataframe\">\n",
       "  <thead>\n",
       "    <tr style=\"text-align: right;\">\n",
       "      <th></th>\n",
       "      <th>default</th>\n",
       "      <th>student</th>\n",
       "      <th>balance</th>\n",
       "      <th>income</th>\n",
       "    </tr>\n",
       "  </thead>\n",
       "  <tbody>\n",
       "    <tr>\n",
       "      <th>0</th>\n",
       "      <td>-1</td>\n",
       "      <td>0</td>\n",
       "      <td>729.526495</td>\n",
       "      <td>44361.625074</td>\n",
       "    </tr>\n",
       "    <tr>\n",
       "      <th>1</th>\n",
       "      <td>-1</td>\n",
       "      <td>1</td>\n",
       "      <td>817.180407</td>\n",
       "      <td>12106.134700</td>\n",
       "    </tr>\n",
       "    <tr>\n",
       "      <th>2</th>\n",
       "      <td>-1</td>\n",
       "      <td>0</td>\n",
       "      <td>1073.549164</td>\n",
       "      <td>31767.138947</td>\n",
       "    </tr>\n",
       "    <tr>\n",
       "      <th>3</th>\n",
       "      <td>-1</td>\n",
       "      <td>0</td>\n",
       "      <td>529.250605</td>\n",
       "      <td>35704.493935</td>\n",
       "    </tr>\n",
       "    <tr>\n",
       "      <th>4</th>\n",
       "      <td>-1</td>\n",
       "      <td>0</td>\n",
       "      <td>785.655883</td>\n",
       "      <td>38463.495879</td>\n",
       "    </tr>\n",
       "  </tbody>\n",
       "</table>\n",
       "</div>"
      ],
      "text/plain": [
       "   default  student      balance        income\n",
       "0       -1        0   729.526495  44361.625074\n",
       "1       -1        1   817.180407  12106.134700\n",
       "2       -1        0  1073.549164  31767.138947\n",
       "3       -1        0   529.250605  35704.493935\n",
       "4       -1        0   785.655883  38463.495879"
      ]
     },
     "execution_count": 30,
     "metadata": {},
     "output_type": "execute_result"
    }
   ],
   "source": [
    "df['student'] = df.student.map({'No': 0, 'Yes': 1})\n",
    "df['default'] = df.default.map({'No': -1, 'Yes': 1})\n",
    "df.head()"
   ]
  },
  {
   "cell_type": "code",
   "execution_count": 31,
   "metadata": {},
   "outputs": [
    {
     "name": "stdout",
     "output_type": "stream",
     "text": [
      "(8000, 3) (8000,)\n",
      "(2000, 3) (2000,)\n",
      "\n",
      "With labels of {-1: \"No\", 1: \"Yes\"},\n",
      "First five labels in training set: [-1 -1 -1 -1 -1]\n"
     ]
    }
   ],
   "source": [
    "y = df.default.values\n",
    "X = df.drop(\"default\", axis = 1).values\n",
    "train_X, train_y, test_X, test_y = train_test_split_np(X, y)\n",
    "\n",
    "print(train_X.shape, train_y.shape)\n",
    "print(test_X.shape, test_y.shape)\n",
    "print()\n",
    "print('With labels of {-1: \"No\", 1: \"Yes\"},')\n",
    "print('First five labels in training set:', train_y[:5])"
   ]
  },
  {
   "cell_type": "markdown",
   "metadata": {},
   "source": [
    "## 4-1. Decision Tree Classifier for AdaBoost"
   ]
  },
  {
   "cell_type": "code",
   "execution_count": 32,
   "metadata": {},
   "outputs": [],
   "source": [
    "class DecisionTreeBinaryClassifier:\n",
    "    def __init__(self, max_depth = None):\n",
    "        self.max_depth = max_depth\n",
    "\n",
    "    def fit(self, X, y):\n",
    "        self.tree = self._grow_tree(X, y)\n",
    "\n",
    "    def _grow_tree(self, X, y, depth = 0):\n",
    "        # Stopping criterio\n",
    "        n_labels = len(np.unique(y))\n",
    "        if(self.max_depth is not None and depth == self.max_depth) or n_labels == 1:\n",
    "            y[y == -1] = 0\n",
    "            return 2 * np.argmax(np.bincount(y)) - 1\n",
    "\n",
    "        feature_idx, threshold = self._best_split(X, y)\n",
    "        left_indices = X[:, feature_idx] < threshold\n",
    "        X_left, y_left = X[left_indices], y[left_indices]\n",
    "        X_right, y_right = X[~left_indices], y[~left_indices]\n",
    "\n",
    "        # Recursively grow the tree \n",
    "        left_tree = self._grow_tree(X_left, y_left, depth + 1)\n",
    "        right_tree = self._grow_tree(X_right, y_right, depth + 1)\n",
    "\n",
    "        return [feature_idx, threshold, left_tree, right_tree]\n",
    "\n",
    "    def _best_split(self, X, y):\n",
    "        n_features = X.shape[1]\n",
    "        best_feature_idx, best_threshold, min_entropy = None, None, float('inf') # positive infinity\n",
    "\n",
    "        for feature_idx in range(n_features):\n",
    "\n",
    "            ##################\n",
    "            # IMPLEMENT HERE #\n",
    "            ##################\n",
    "\n",
    "            # thresholds = \n",
    "\n",
    "            # answer\n",
    "            thresholds = np.unique(X[:, feature_idx])\n",
    "\n",
    "            ##################\n",
    "            ##################\n",
    "\n",
    "            for threshold in thresholds:\n",
    "\n",
    "                y_left = y[X[:, feature_idx] < threshold]\n",
    "                y_right = y[X[:, feature_idx] >= threshold]\n",
    "\n",
    "                entropy = self._entropy(y_left, y_right)\n",
    "                if entropy < min_entropy:\n",
    "                    best_feature_idx, best_threshold, min_entropy = feature_idx, threshold, entropy\n",
    "\n",
    "        return best_feature_idx, best_threshold\n",
    "\n",
    "    def _entropy(self, y_left, y_right):\n",
    "        n_left, n_right = len(y_left), len(y_right)\n",
    "        n_total = n_left + n_right\n",
    "\n",
    "        p_left = np.unique(y_left, return_counts = True)[1] / n_left\n",
    "        p_right = np.unique(y_right, return_counts = True)[1] / n_right\n",
    "\n",
    "        entropy_left = -np.sum(p_left * np.log(p_left))\n",
    "        entropy_right = -np.sum(p_right * np.log(p_right))\n",
    "\n",
    "        return (n_left / n_total) * entropy_left + (n_right / n_total) * entropy_right\n",
    "\n",
    "    def predict(self, X):\n",
    "        return np.array([self._predict(x, self.tree) for x in X])\n",
    "\n",
    "    def _predict(self, x, tree):\n",
    "        if not isinstance(tree, list):\n",
    "            return tree\n",
    "\n",
    "        feature_idx, threshold, left_tree, right_tree = tree\n",
    "        if x[feature_idx] < threshold:\n",
    "            return self._predict(x, left_tree)\n",
    "        else:\n",
    "            return self._predict(x, right_tree)"
   ]
  },
  {
   "cell_type": "markdown",
   "metadata": {},
   "source": [
    "## 4-2. AdaBoost Binary Classifier"
   ]
  },
  {
   "cell_type": "code",
   "execution_count": 33,
   "metadata": {},
   "outputs": [],
   "source": [
    "class AdaBoost:\n",
    "    def __init__(self, n_estimators = 100):\n",
    "        self.n_estimators = n_estimators\n",
    "\n",
    "    def fit(self, X, y):\n",
    "        n_samples = len(X)\n",
    "        weights = np.full(n_samples, 1 / n_samples)\n",
    "\n",
    "        self.models = []\n",
    "        for _ in range(self.n_estimators):\n",
    "            model = DecisionTreeBinaryClassifier(max_depth=1)\n",
    "\n",
    "            indices = np.random.choice(n_samples, size = n_samples, replace = True, p = weights)\n",
    "            model.fit(X[indices], y[indices])\n",
    "\n",
    "            y_pred = model.predict(X)\n",
    "            error_rate = np.sum(y != y_pred) / n_samples\n",
    "\n",
    "            alpha = 0.5 * np.log((1 - error_rate + 1e-7) / error_rate)\n",
    "\n",
    "            ##################\n",
    "            # IMPLEMENT HERE #\n",
    "            ##################\n",
    "\n",
    "            # weights *=\n",
    "            # weights /=\n",
    "\n",
    "            # answer\n",
    "            weights *= np.exp(-alpha * y * y_pred)\n",
    "            weights /= np.sum(weights)\n",
    "\n",
    "            ##################\n",
    "            ##################\n",
    "\n",
    "            self.models.append((alpha, model))\n",
    "\n",
    "    def predict(self, X):\n",
    "        n_samples = len(X)\n",
    "        y_pred = np.zeros(n_samples)\n",
    "\n",
    "        for alpha, model in self.models:\n",
    "            y_pred += alpha * model.predict(X)\n",
    "\n",
    "        return np.sign(y_pred)"
   ]
  },
  {
   "cell_type": "code",
   "execution_count": 34,
   "metadata": {},
   "outputs": [
    {
     "name": "stdout",
     "output_type": "stream",
     "text": [
      "Accuracy:  0.971\n"
     ]
    }
   ],
   "source": [
    "ada = AdaBoost(n_estimators=100)\n",
    "ada.fit(train_X, train_y)\n",
    "pred_y = ada.predict(test_X)\n",
    "\n",
    "print('Accuracy: ', accuracy(test_y, pred_y))"
   ]
  },
  {
   "cell_type": "markdown",
   "metadata": {},
   "source": [
    "# 5. Hierarchical Clustering\n",
    "\n",
    "## 5-0. Data Setting"
   ]
  },
  {
   "cell_type": "code",
   "execution_count": 35,
   "metadata": {},
   "outputs": [],
   "source": [
    "from sklearn import datasets\n",
    "iris = datasets.load_iris()\n",
    "X = iris.data\n",
    "y = iris.target\n",
    "label_dict = {0: \"Setosa\", 1: \"Versicolor\", 2: \"Virginica\"}"
   ]
  },
  {
   "cell_type": "code",
   "execution_count": 36,
   "metadata": {},
   "outputs": [
    {
     "name": "stdout",
     "output_type": "stream",
     "text": [
      "(120, 4) (120,)\n",
      "(30, 4) (30,)\n",
      "\n",
      "With labels of {0: \"Setosa\", 1: \"Versicolor\", 2: \"Virginica\"},\n",
      "First five labels in training set: [2 2 1 2 2]\n"
     ]
    }
   ],
   "source": [
    "train_X, train_y, test_X, test_y = train_test_split_np(X, y)\n",
    "print(train_X.shape, train_y.shape)\n",
    "print(test_X.shape, test_y.shape)\n",
    "print()\n",
    "print('With labels of {0: \"Setosa\", 1: \"Versicolor\", 2: \"Virginica\"},')\n",
    "print('First five labels in training set:', train_y[:5])"
   ]
  },
  {
   "cell_type": "markdown",
   "metadata": {},
   "source": [
    "## 5-1. Hierarchical Clustering"
   ]
  },
  {
   "cell_type": "code",
   "execution_count": 37,
   "metadata": {},
   "outputs": [],
   "source": [
    "label = np.arange(len(test_X))"
   ]
  },
  {
   "cell_type": "code",
   "execution_count": 38,
   "metadata": {},
   "outputs": [
    {
     "data": {
      "text/plain": [
       "array([ 0,  1,  2,  3,  4,  5,  6,  7,  8,  9, 10, 11, 12, 13, 14, 15, 16,\n",
       "       17, 18, 19, 20, 21, 22, 23, 24, 25, 26, 27, 28, 29])"
      ]
     },
     "execution_count": 38,
     "metadata": {},
     "output_type": "execute_result"
    }
   ],
   "source": [
    "label"
   ]
  },
  {
   "cell_type": "code",
   "execution_count": 39,
   "metadata": {},
   "outputs": [],
   "source": [
    "merge_i = 1\n",
    "merge_j = 3"
   ]
  },
  {
   "cell_type": "code",
   "execution_count": 40,
   "metadata": {},
   "outputs": [
    {
     "data": {
      "text/plain": [
       "1"
      ]
     },
     "execution_count": 40,
     "metadata": {},
     "output_type": "execute_result"
    }
   ],
   "source": [
    "label[merge_i]"
   ]
  },
  {
   "cell_type": "code",
   "execution_count": 41,
   "metadata": {},
   "outputs": [
    {
     "data": {
      "text/plain": [
       "array([False,  True, False, False, False, False, False, False, False,\n",
       "       False, False, False, False, False, False, False, False, False,\n",
       "       False, False, False, False, False, False, False, False, False,\n",
       "       False, False, False])"
      ]
     },
     "execution_count": 41,
     "metadata": {},
     "output_type": "execute_result"
    }
   ],
   "source": [
    "label == label[merge_i]"
   ]
  },
  {
   "cell_type": "code",
   "execution_count": 42,
   "metadata": {},
   "outputs": [
    {
     "data": {
      "text/plain": [
       "array([1])"
      ]
     },
     "execution_count": 42,
     "metadata": {},
     "output_type": "execute_result"
    }
   ],
   "source": [
    "label[label == label[merge_i]]"
   ]
  },
  {
   "cell_type": "code",
   "execution_count": 43,
   "metadata": {},
   "outputs": [],
   "source": [
    "label[label == label[merge_i]] = label[merge_j]"
   ]
  },
  {
   "cell_type": "code",
   "execution_count": 44,
   "metadata": {},
   "outputs": [
    {
     "data": {
      "text/plain": [
       "array([ 0,  3,  2,  3,  4,  5,  6,  7,  8,  9, 10, 11, 12, 13, 14, 15, 16,\n",
       "       17, 18, 19, 20, 21, 22, 23, 24, 25, 26, 27, 28, 29])"
      ]
     },
     "execution_count": 44,
     "metadata": {},
     "output_type": "execute_result"
    }
   ],
   "source": [
    "label"
   ]
  },
  {
   "cell_type": "code",
   "execution_count": 45,
   "metadata": {},
   "outputs": [],
   "source": [
    "# Agglomerative clstering with Closest Pair Option\n",
    "class HierarchicalClustering:\n",
    "    def __init__(self, n_clusters = 3):\n",
    "        self.n_clusters = n_clusters\n",
    "\n",
    "    def fit(self, X):\n",
    "        n_samples, n_features = X.shape\n",
    "        self.labels = np.arange(n_samples)\n",
    "\n",
    "        while len(np.unique(self.labels)) > self.n_clusters:\n",
    "            min_dist = float('inf')\n",
    "            for i in range(n_samples):\n",
    "                for j in range(i + 1, n_samples):\n",
    "                    if self.labels[i] != self.labels[j]:\n",
    "                        dist = np.linalg.norm(X[i] - X[j])\n",
    "                        if dist < min_dist:\n",
    "                            min_dist = dist\n",
    "                            merge_i, merge_j = i, j\n",
    "\n",
    "            ##################\n",
    "            # IMPLEMENT HERE #\n",
    "            ##################\n",
    "                            \n",
    "            # self.labels\n",
    "\n",
    "            # answer\n",
    "            self.labels[self.labels == self.labels[merge_j]] = self.labels[merge_i]\n",
    "\n",
    "            ##################\n",
    "            ##################\n",
    "\n",
    "    def get_labels(self):\n",
    "        return self.labels"
   ]
  },
  {
   "cell_type": "code",
   "execution_count": 46,
   "metadata": {},
   "outputs": [],
   "source": [
    "hc = HierarchicalClustering(n_clusters = 3)\n",
    "hc.fit(train_X)"
   ]
  },
  {
   "cell_type": "code",
   "execution_count": 47,
   "metadata": {},
   "outputs": [
    {
     "data": {
      "text/plain": [
       "array([77, 77, 77, 77, 77, 77, 77, 94, 94, 77, 10, 77, 94, 94, 77, 94, 94,\n",
       "       77, 77, 77, 94, 77, 77, 94, 77, 77, 94, 94, 77, 77, 77, 94, 77, 94,\n",
       "       94, 77, 77, 77, 77, 77, 77, 77, 94, 77, 77, 94, 77, 77, 77, 77, 94,\n",
       "       77, 94, 94, 77, 94, 77, 77, 94, 77, 94, 77, 77, 77, 77, 77, 94, 77,\n",
       "       94, 77, 10, 94, 77, 94, 77, 77, 77, 77, 77, 77, 77, 77, 94, 77, 77,\n",
       "       77, 77, 77, 94, 77, 77, 77, 77, 77, 94, 94, 77, 77, 94, 77, 94, 77,\n",
       "       94, 77, 77, 77, 77, 94, 77, 94, 94, 94, 94, 77, 77, 77, 77, 94, 77,\n",
       "       94])"
      ]
     },
     "execution_count": 47,
     "metadata": {},
     "output_type": "execute_result"
    }
   ],
   "source": [
    "hc.get_labels()"
   ]
  },
  {
   "cell_type": "markdown",
   "metadata": {},
   "source": [
    "# 6. Principal Component Analysis\n",
    "\n",
    "## 6-0. Data Setting"
   ]
  },
  {
   "cell_type": "code",
   "execution_count": 48,
   "metadata": {},
   "outputs": [],
   "source": [
    "from sklearn import datasets\n",
    "iris = datasets.load_iris()\n",
    "X = iris.data\n",
    "y = iris.target\n",
    "label_dict = {0: \"Setosa\", 1: \"Versicolor\", 2: \"Virginica\"}"
   ]
  },
  {
   "cell_type": "code",
   "execution_count": 49,
   "metadata": {},
   "outputs": [
    {
     "name": "stdout",
     "output_type": "stream",
     "text": [
      "(120, 4) (120,)\n",
      "(30, 4) (30,)\n",
      "\n",
      "With labels of {0: \"Setosa\", 1: \"Versicolor\", 2: \"Virginica\"},\n",
      "First five labels in training set: [1 2 0 2 2]\n"
     ]
    }
   ],
   "source": [
    "train_X, train_y, test_X, test_y = train_test_split_np(X, y)\n",
    "print(train_X.shape, train_y.shape)\n",
    "print(test_X.shape, test_y.shape)\n",
    "print()\n",
    "print('With labels of {0: \"Setosa\", 1: \"Versicolor\", 2: \"Virginica\"},')\n",
    "print('First five labels in training set:', train_y[:5])"
   ]
  },
  {
   "cell_type": "code",
   "execution_count": 50,
   "metadata": {},
   "outputs": [],
   "source": [
    "# PCA with numpy\n",
    "class PCA:\n",
    "    def __init__(self, n_components):\n",
    "        self.n_components = n_components\n",
    "\n",
    "    def fit(self, X):\n",
    "        n_samples, n_features = X.shape\n",
    "\n",
    "        # Calculate the mean of the data\n",
    "        self.mean = np.mean(X, axis = 0)\n",
    "\n",
    "        # Center the data\n",
    "        X_centered = X - self.mean\n",
    "\n",
    "        # Calculate the covariance matrix\n",
    "        self.cov_matrix = np.cov(X_centered, rowvar = False)\n",
    "\n",
    "        # Calculate the eigenvalues and eigenvectors of the covariance matrix\n",
    "        self.eigenvalues, self.eigenvectors = np.linalg.eig(self.cov_matrix)\n",
    "\n",
    "        # Sort the eigenvectors by decreasing eigenvalues\n",
    "        idx = np.argsort(self.eigenvalues)[::-1]\n",
    "        self.eigenvalues = self.eigenvalues[idx]\n",
    "        self.eigenvectors = self.eigenvectors[:, idx]\n",
    "\n",
    "        # Select the top n_components eigenvectors\n",
    "        self.components = self.eigenvectors[:, :self.n_components]\n",
    "\n",
    "    def transform(self, X):\n",
    "        # Center the data\n",
    "        X_centered = X - self.mean\n",
    "\n",
    "        # Project the data onto the principal components\n",
    "        return X_centered.dot(self.components)\n",
    "    \n",
    "    def fit_transform(self, X):\n",
    "        self.fit(X)\n",
    "        return self.transform(X)"
   ]
  },
  {
   "cell_type": "code",
   "execution_count": 51,
   "metadata": {},
   "outputs": [
    {
     "data": {
      "image/png": "[encoded data removed]",
      "text/plain": [
       "<Figure size 640x480 with 1 Axes>"
      ]
     },
     "metadata": {},
     "output_type": "display_data"
    }
   ],
   "source": [
    "pca = PCA(n_components = 2)\n",
    "X_pca = pca.fit_transform(X)\n",
    "\n",
    "# visualize X_pca\n",
    "plt.scatter(X_pca[:, 0], X_pca[:, 1], c = y, cmap = 'viridis', edgecolor = 'k')\n",
    "plt.xlabel('Principal Component 1')\n",
    "plt.ylabel('Principal Component 2')\n",
    "plt.title('PCA')\n",
    "plt.show()"
   ]
  }
 ],
 "metadata": {
  "colab": {
   "provenance": []
  },
  "kernelspec": {
   "display_name": "Python 3 (ipykernel)",
   "language": "python",
   "name": "python3"
  },
  "language_info": {
   "codemirror_mode": {
    "name": "ipython",
    "version": 3
   },
   "file_extension": ".py",
   "mimetype": "text/x-python",
   "name": "python",
   "nbconvert_exporter": "python",
   "pygments_lexer": "ipython3",
   "version": "3.8.19"
  }
 },
 "nbformat": 4,
 "nbformat_minor": 4
}
