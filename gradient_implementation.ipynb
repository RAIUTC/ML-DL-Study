{
 "cells": [
  {
   "cell_type": "markdown",
   "metadata": {},
   "source": [
    "# Gradient Implementation\n",
    "\n",
    "- Logistic Regression Gradient Descent Implementation\n",
    "\n",
    "<p align=\"center\">\n",
    "<img src=\"./img/gradient_implementation.png\">\n",
    "</p>\n",
    "\n",
    "## Forward pass"
   ]
  },
  {
   "cell_type": "code",
   "execution_count": 5,
   "metadata": {},
   "outputs": [],
   "source": [
    "import numpy as np\n",
    "\n",
    "def f(w0, x0, w1, x1, b):\n",
    "    s0 = w0 * x0\n",
    "    s1 = w1 * x1\n",
    "    s2 = s0 + s1\n",
    "    s3 = s2 + b\n",
    "    return 1.0 / (1.0 + np.exp(-s3)) # *-1 -> exp -> +1 -> 1/x"
   ]
  },
  {
   "cell_type": "markdown",
   "metadata": {},
   "source": [
    "## Gradient computation"
   ]
  },
  {
   "cell_type": "code",
   "execution_count": 6,
   "metadata": {},
   "outputs": [],
   "source": [
    "w0 = 2.0\n",
    "x0 = -1.0\n",
    "w1 = -3.0\n",
    "x1 = -2.0\n",
    "b = -3.0\n",
    "\n",
    "f = f(w0, x0, w1, x1, b)\n",
    "\n",
    "grad_f = 1.0\n",
    "grad_s3 = grad_f * (1 - f) * f\n",
    "grad_b = grad_s3\n",
    "grad_s2 = grad_s3\n",
    "grad_s0 = grad_s2\n",
    "grad_s1 = grad_s2\n",
    "grad_w1 = grad_s1 * x1\n",
    "grad_x1 = grad_s1 * w1\n",
    "grad_w0 = grad_s0 * x0\n",
    "grad_x0 = grad_s0 * w0"
   ]
  },
  {
   "cell_type": "code",
   "execution_count": 8,
   "metadata": {},
   "outputs": [
    {
     "name": "stdout",
     "output_type": "stream",
     "text": [
      "-0.2\n",
      "-0.4\n",
      "0.2\n"
     ]
    }
   ],
   "source": [
    "print(round(grad_w0, 1))\n",
    "print(round(grad_w1, 1))\n",
    "print(round(grad_b, 1))"
   ]
  }
 ],
 "metadata": {
  "kernelspec": {
   "display_name": "aiStudy",
   "language": "python",
   "name": "python3"
  },
  "language_info": {
   "codemirror_mode": {
    "name": "ipython",
    "version": 3
   },
   "file_extension": ".py",
   "mimetype": "text/x-python",
   "name": "python",
   "nbconvert_exporter": "python",
   "pygments_lexer": "ipython3",
   "version": "3.8.19"
  },
  "orig_nbformat": 4
 },
 "nbformat": 4,
 "nbformat_minor": 2
}
